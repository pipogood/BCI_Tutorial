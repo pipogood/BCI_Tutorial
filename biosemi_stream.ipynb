{
 "cells": [
  {
   "cell_type": "markdown",
   "metadata": {},
   "source": [
    "# Biosemi Active II recorded file streaming"
   ]
  },
  {
   "cell_type": "markdown",
   "metadata": {},
   "source": [
    "Resample and Save"
   ]
  },
  {
   "cell_type": "code",
   "execution_count": 5,
   "metadata": {},
   "outputs": [],
   "source": [
    "# import mne\n",
    "# import numpy as np\n",
    "# from mne.channels import make_standard_montage\n",
    "# import matplotlib.pyplot as plt\n",
    "# from mne.datasets import eegbci\n",
    "\n",
    "# raw = mne.io.read_raw_bdf(\"C:\\\\Users\\\\pipo_\\\\OneDrive\\\\Desktop\\\\test_data\\\\Testdata3.bdf\")\n",
    "\n",
    "# eegbci.standardize(raw)  # set channel names\n",
    "# montage = make_standard_montage(\"biosemi64\")\n",
    "\n",
    "# raw.set_montage(montage, on_missing='ignore')\n",
    "\n",
    "# raw_eeg = raw.copy().resample(512)\n",
    "\n",
    "# raw_eeg.save(\"biosemi_SSVEP.fif\", overwrite=True)"
   ]
  },
  {
   "cell_type": "markdown",
   "metadata": {},
   "source": [
    "Load data for stream"
   ]
  },
  {
   "cell_type": "code",
   "execution_count": 6,
   "metadata": {},
   "outputs": [
    {
     "name": "stdout",
     "output_type": "stream",
     "text": [
      "Opening raw data file biosemi_SSVEP.fif...\n",
      "    Range : 0 ... 100863 =      0.000 ...   196.998 secs\n",
      "Ready.\n"
     ]
    },
    {
     "name": "stderr",
     "output_type": "stream",
     "text": [
      "C:\\Users\\pipo_\\AppData\\Local\\Temp\\ipykernel_30056\\4293364053.py:8: RuntimeWarning: This filename (biosemi_SSVEP.fif) does not conform to MNE naming conventions. All raw files should end with raw.fif, raw_sss.fif, raw_tsss.fif, _meg.fif, _eeg.fif, _ieeg.fif, raw.fif.gz, raw_sss.fif.gz, raw_tsss.fif.gz, _meg.fif.gz, _eeg.fif.gz or _ieeg.fif.gz\n",
      "  raw_eeg = mne.io.read_raw_fif(\"biosemi_SSVEP.fif\")\n"
     ]
    }
   ],
   "source": [
    "import mne\n",
    "import numpy as np\n",
    "from mne.channels import make_standard_montage\n",
    "import matplotlib.pyplot as plt\n",
    "from mne.datasets import eegbci\n",
    "\n",
    "\n",
    "raw_eeg = mne.io.read_raw_fif(\"biosemi_SSVEP.fif\")\n",
    "select_ch = ['O1','Oz','PO3','PO4','POz','Pz']\n",
    "raw_eeg = raw_eeg.pick(select_ch)"
   ]
  },
  {
   "cell_type": "code",
   "execution_count": 8,
   "metadata": {},
   "outputs": [
    {
     "ename": "KeyboardInterrupt",
     "evalue": "",
     "output_type": "error",
     "traceback": [
      "\u001b[1;31m---------------------------------------------------------------------------\u001b[0m",
      "\u001b[1;31mKeyboardInterrupt\u001b[0m                         Traceback (most recent call last)",
      "Cell \u001b[1;32mIn[8], line 33\u001b[0m\n\u001b[0;32m     31\u001b[0m chunk_size \u001b[38;5;241m=\u001b[39m \u001b[38;5;241m512\u001b[39m\n\u001b[0;32m     32\u001b[0m \u001b[38;5;66;03m# Send raw EEG data in chunks\u001b[39;00m\n\u001b[1;32m---> 33\u001b[0m \u001b[43msend_eeg_chunks\u001b[49m\u001b[43m(\u001b[49m\u001b[43mraw_eeg\u001b[49m\u001b[43m,\u001b[49m\u001b[43m \u001b[49m\u001b[43mchunk_size\u001b[49m\u001b[43m)\u001b[49m\n",
      "Cell \u001b[1;32mIn[8], line 26\u001b[0m, in \u001b[0;36msend_eeg_chunks\u001b[1;34m(raw_eeg, chunk_size)\u001b[0m\n\u001b[0;32m     24\u001b[0m eeg_outlet\u001b[38;5;241m.\u001b[39mpush_chunk(chunk\u001b[38;5;241m.\u001b[39mT\u001b[38;5;241m.\u001b[39mtolist())  \u001b[38;5;66;03m# Transpose for proper LSL format\u001b[39;00m\n\u001b[0;32m     25\u001b[0m \u001b[38;5;66;03m# print(f\"Sent chunk of {end_idx - start_idx} samples starting at {start_idx} and ending at {end_idx}\")\u001b[39;00m\n\u001b[1;32m---> 26\u001b[0m time\u001b[38;5;241m.\u001b[39msleep(\u001b[38;5;241m1\u001b[39m \u001b[38;5;241m/\u001b[39m sfreq)\n",
      "\u001b[1;31mKeyboardInterrupt\u001b[0m: "
     ]
    }
   ],
   "source": [
    "from mne_realtime import LSLClient, MockLSLStream\n",
    "from pylsl import StreamInfo, StreamOutlet\n",
    "import time\n",
    "import mne\n",
    "\n",
    "# Assuming raw_eeg is already created\n",
    "# Create the LSL stream for the raw EEG data\n",
    "eeg_info = StreamInfo(name='SomSom', type='EEG', channel_count=raw_eeg.info['nchan'],\n",
    "                      nominal_srate=raw_eeg.info['sfreq'], channel_format='float32')\n",
    "eeg_outlet = StreamOutlet(eeg_info)\n",
    "\n",
    "def send_eeg_chunks(raw_eeg, chunk_size):\n",
    "    \"\"\" Send raw EEG data in chunks through LSL. \"\"\"\n",
    "    sfreq = raw_eeg.info['sfreq']  # Sampling frequency\n",
    "    n_samples = len(raw_eeg.times)  # Total number of samples in the raw data\n",
    "    data, _ = raw_eeg[:, :]  # Get all the EEG data as an array\n",
    "\n",
    "    for start_idx in range(0, n_samples - chunk_size + 1):\n",
    "        # Determine the end of the chunk with 1-sample overlapping\n",
    "        end_idx = start_idx + chunk_size\n",
    "        # Extract the chunk of data\n",
    "        chunk = data[:, start_idx:end_idx]\n",
    "        # Push the chunk of raw EEG data to the LSL stream\n",
    "        eeg_outlet.push_chunk(chunk.T.tolist())  # Transpose for proper LSL format\n",
    "        # print(f\"Sent chunk of {end_idx - start_idx} samples starting at {start_idx} and ending at {end_idx}\")\n",
    "        time.sleep(1 / sfreq)\n",
    "\n",
    "if __name__ == '__main__':\n",
    "    while True:\n",
    "        # Set the chunk size (e.g., 100 samples per chunk)\n",
    "        chunk_size = 512\n",
    "        # Send raw EEG data in chunks\n",
    "        send_eeg_chunks(raw_eeg, chunk_size)"
   ]
  },
  {
   "cell_type": "code",
   "execution_count": 1,
   "metadata": {},
   "outputs": [],
   "source": [
    "# from mne_realtime import LSLClient, MockLSLStream\n",
    "# from pylsl import StreamInfo, StreamOutlet\n",
    "# import time\n",
    "# import mne\n",
    "\n",
    "# # Assuming raw_eeg is already created and events are detected\n",
    "# # Find events in raw_eeg (already done in your case)\n",
    "# events_raw = mne.find_events(raw_eeg, shortest_event=0)\n",
    "\n",
    "# # Create the LSL stream for the trigger events (Markers)\n",
    "# trigger_info = StreamInfo(name='TriggerStream', type='Markers', channel_count=1, nominal_srate=raw_eeg.info['sfreq'], channel_format='int32')\n",
    "# trigger_outlet = StreamOutlet(trigger_info)\n",
    "\n",
    "# # Host name and wait time\n",
    "# host = 'My_mne_stream'\n",
    "# wait_max = 5\n",
    "\n",
    "# previous_event_time = 0\n",
    "\n",
    "# def send_triggers(events_raw, sfreq):\n",
    "#     global previous_event_time\n",
    "#     \"\"\" Send trigger events through LSL based on event timestamps. \"\"\"\n",
    "#     for event in events_raw:\n",
    "#         sample_idx = event[0]  # The sample index of the event\n",
    "#         trigger_type = event[2]  # The event ID (trigger type)\n",
    "\n",
    "#         # Convert the sample index to time in seconds\n",
    "#         event_time = (sample_idx / sfreq)\n",
    "        \n",
    "#         # Simulate waiting until the event time\n",
    "#         print(\"waiting to send event for: \",event_time-previous_event_time)\n",
    "#         time.sleep(event_time-previous_event_time)\n",
    "        \n",
    "#         # Send the trigger over LSL\n",
    "#         trigger_outlet.push_sample([trigger_type])\n",
    "#         print(f\"Sent trigger: {trigger_type} at time {event_time+previous_event_time:.3f} seconds\")\n",
    "\n",
    "#         previous_event_time = event_time\n",
    "\n",
    "# if __name__ == '__main__':\n",
    "#     # Start the EEG stream using MockLSLStream\n",
    "#     with MockLSLStream(host, raw_eeg, 'eeg'):\n",
    "#         # Start the client to receive the EEG stream\n",
    "#         with LSLClient(info=raw_eeg.info, host=host, wait_max=wait_max) as client:\n",
    "#             client_info = client.get_measurement_info()\n",
    "            \n",
    "#             # Send triggers in real-time based on the events found in the raw data\n",
    "#             send_triggers(events_raw, raw_eeg.info['sfreq'])\n",
    "\n",
    "#             # Infinite loop to simulate real-time streaming\n",
    "#             while True:\n",
    "#                 pass  # Keeps the stream alive\n"
   ]
  }
 ],
 "metadata": {
  "kernelspec": {
   "display_name": "Python 3",
   "language": "python",
   "name": "python3"
  },
  "language_info": {
   "codemirror_mode": {
    "name": "ipython",
    "version": 3
   },
   "file_extension": ".py",
   "mimetype": "text/x-python",
   "name": "python",
   "nbconvert_exporter": "python",
   "pygments_lexer": "ipython3",
   "version": "3.11.0"
  }
 },
 "nbformat": 4,
 "nbformat_minor": 2
}
