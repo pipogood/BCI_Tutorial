{
 "cells": [
  {
   "cell_type": "markdown",
   "metadata": {},
   "source": [
    "# SSVEP: Offline processing using Machine Leaning Method"
   ]
  },
  {
   "cell_type": "markdown",
   "metadata": {},
   "source": [
    "## Step 0: Import neceessary toolboxes"
   ]
  },
  {
   "cell_type": "code",
   "execution_count": 57,
   "metadata": {},
   "outputs": [],
   "source": [
    "# import require library for preprocess\n",
    "import mne\n",
    "import numpy as np\n",
    "from mne.channels import make_standard_montage\n",
    "import matplotlib.pyplot as plt\n",
    "from mne.datasets import eegbci\n",
    "import scipy\n",
    "import pickle\n",
    "import seaborn as sns\n",
    "\n",
    "# import require library for classification\n",
    "from sklearn.svm import SVC # SVM library\n",
    "from sklearn.discriminant_analysis import LinearDiscriminantAnalysis # LDA library\n",
    "from sklearn.neighbors import KNeighborsClassifier # KNN library\n",
    "\n",
    "from sklearn.metrics import classification_report,confusion_matrix # Result representation"
   ]
  },
  {
   "cell_type": "code",
   "execution_count": 58,
   "metadata": {},
   "outputs": [],
   "source": [
    "select_feature = \"fft\""
   ]
  },
  {
   "cell_type": "markdown",
   "metadata": {},
   "source": [
    "## Step 1: Read data file"
   ]
  },
  {
   "cell_type": "code",
   "execution_count": 59,
   "metadata": {},
   "outputs": [],
   "source": [
    "# read biosemi file (bdf)\n",
    "raw = mne.io.read_raw_bdf(\"Testdata3.bdf\", preload=True, verbose=False) \n",
    "eegbci.standardize(raw)"
   ]
  },
  {
   "cell_type": "markdown",
   "metadata": {},
   "source": [
    "## Step 2: Data preprocessing -- set channel locations/ downsampling/ frequency filtering (bandpass)/ epoching"
   ]
  },
  {
   "cell_type": "code",
   "execution_count": 60,
   "metadata": {},
   "outputs": [
    {
     "name": "stdout",
     "output_type": "stream",
     "text": [
      "Filtering raw data in 1 contiguous segment\n",
      "Setting up band-stop filter from 49 - 51 Hz\n",
      "\n",
      "FIR filter parameters\n",
      "---------------------\n",
      "Designing a one-pass, zero-phase, non-causal bandstop filter:\n",
      "- Windowed time-domain design (firwin) method\n",
      "- Hamming window with 0.0194 passband ripple and 53 dB stopband attenuation\n",
      "- Lower passband edge: 49.38\n",
      "- Lower transition bandwidth: 0.50 Hz (-6 dB cutoff frequency: 49.12 Hz)\n",
      "- Upper passband edge: 50.62 Hz\n",
      "- Upper transition bandwidth: 0.50 Hz (-6 dB cutoff frequency: 50.88 Hz)\n",
      "- Filter length: 3381 samples (6.604 s)\n",
      "\n"
     ]
    },
    {
     "name": "stderr",
     "output_type": "stream",
     "text": [
      "[Parallel(n_jobs=1)]: Using backend SequentialBackend with 1 concurrent workers.\n",
      "[Parallel(n_jobs=1)]: Done   1 out of   1 | elapsed:    0.0s remaining:    0.0s\n",
      "[Parallel(n_jobs=1)]: Done   2 out of   2 | elapsed:    0.0s remaining:    0.0s\n",
      "[Parallel(n_jobs=1)]: Done   3 out of   3 | elapsed:    0.0s remaining:    0.0s\n",
      "[Parallel(n_jobs=1)]: Done   4 out of   4 | elapsed:    0.0s remaining:    0.0s\n",
      "[Parallel(n_jobs=1)]: Done  72 out of  72 | elapsed:    0.1s finished\n"
     ]
    }
   ],
   "source": [
    "from scipy.signal import filtfilt\n",
    "from scipy import signal\n",
    "\n",
    "# Set channel location\n",
    "montage = make_standard_montage(\"biosemi64\")\n",
    "raw.set_montage(montage, on_missing='ignore')\n",
    "\n",
    "# Downsample data (from 1024 to 512Hz) to save storage space \n",
    "raw = raw.resample(512, verbose = False)\n",
    "\n",
    "\n",
    "#Band pass and notch filter\n",
    "raw = raw.copy().notch_filter(freqs=50)\n",
    "raw = raw.copy().filter(l_freq=1, h_freq=40, verbose = False)\n",
    "\n",
    "# raw = raw.copy().filter(l_freq=2.0, h_freq=40.0, method = 'iir', iir_params= {\"order\": 4, \"ftype\":'butter'})\n",
    "\n",
    "# Get events and timestamps\n",
    "events = mne.find_events(raw, shortest_event = 0, verbose = False) \n",
    "\n",
    "# Create event dictionary \n",
    "event_dict =  {'12Hz': 8,\n",
    "'24Hz': 4,\n",
    "'6Hz': 10,\n",
    "'30Hz': 2\n",
    "}\n",
    "\n",
    "# Use events and event dictionary to cut data into Epochs\n",
    "ssvep_chans = ['O1','Oz','PO3','PO4','POz','Pz']  # Reject O2 becuase noisy channel\n",
    "\n",
    "Epochs = mne.Epochs(raw, events, \n",
    "    tmin= -1.0,  \n",
    "    tmax= 4.0,    \n",
    "    event_id=event_dict,\n",
    "    picks = ssvep_chans,\n",
    "    preload = True,\n",
    "    event_repeated='drop',\n",
    "    baseline= (-1,0),\n",
    "    verbose=False\n",
    ")\n",
    "\n",
    "Epochs = Epochs.copy().crop(tmin = 0.0, tmax = 4.0)\n",
    "\n",
    "train_label = Epochs['12Hz','6Hz', '24Hz', '30Hz'].events[:,-1]\n",
    "\n",
    "# print(raw.pick(['O1','Oz','PO3','PO4','POz','Pz']).get_data()[:,9735:]* 10e6)"
   ]
  },
  {
   "cell_type": "markdown",
   "metadata": {},
   "source": [
    "## Step3: Feature extraction"
   ]
  },
  {
   "cell_type": "markdown",
   "metadata": {},
   "source": [
    "## 3.1 Fast Fourier Transform"
   ]
  },
  {
   "cell_type": "code",
   "execution_count": 61,
   "metadata": {},
   "outputs": [
    {
     "name": "stdout",
     "output_type": "stream",
     "text": [
      "(20, 6, 2048)\n",
      "(20, 12288)\n"
     ]
    },
    {
     "name": "stderr",
     "output_type": "stream",
     "text": [
      "C:\\Users\\pipo_\\AppData\\Local\\Temp\\ipykernel_2524\\187412297.py:21: FutureWarning: The current default of copy=False will change to copy=True in 1.7. Set the value of copy explicitly to avoid this warning\n",
      "  fft_out, freqs_out = compute_fft(Epochs.get_data() * 10e6, 512)\n"
     ]
    }
   ],
   "source": [
    "# Compute FFT for each epoch and return the power spectral density\n",
    "def compute_fft(epoch_data, sampling_rate):\n",
    "\n",
    "    num_epochs, num_channels, num_timepoints = epoch_data.shape\n",
    "\n",
    "    freqs = np.fft.fftfreq(num_timepoints-1, 1 / sampling_rate)\n",
    "    \n",
    "    fft_data = np.zeros((num_epochs, num_channels, len(freqs)))\n",
    "\n",
    "    # Compute FFT for each channel and each epoch\n",
    "    for epoch_idx in range(num_epochs):\n",
    "        for ch_idx in range(num_channels):     \n",
    "            fft_result = scipy.fft.fft(epoch_data[epoch_idx, ch_idx, 0:2048])\n",
    "\n",
    "            power_spectrum = np.abs(fft_result) ** 2  # Power = |FFT|^2\n",
    "            fft_data[epoch_idx, ch_idx, :] = power_spectrum\n",
    "\n",
    "    return fft_data, freqs\n",
    "\n",
    "# Example usage\n",
    "fft_out, freqs_out = compute_fft(Epochs.get_data() * 10e6, 512)\n",
    "print(np.shape(fft_out))\n",
    "\n",
    "fft_train = np.stack([arr.flatten() for arr in fft_out])\n",
    "print(fft_train.shape)\n"
   ]
  },
  {
   "cell_type": "markdown",
   "metadata": {},
   "source": [
    "## 3.2 Power Spectrum Density"
   ]
  },
  {
   "cell_type": "code",
   "execution_count": 62,
   "metadata": {},
   "outputs": [
    {
     "name": "stdout",
     "output_type": "stream",
     "text": [
      "    Using multitaper spectrum estimation with 7 DPSS windows\n",
      "(20, 6, 156)\n",
      "(20, 936)\n"
     ]
    }
   ],
   "source": [
    "psd_epoch = Epochs['12Hz','6Hz', '24Hz', '30Hz'].pick(ssvep_chans).compute_psd(fmin=1.0, fmax=40.0)\n",
    "print(psd_epoch.shape)\n",
    "\n",
    "psd_train = np.stack([arr.flatten() for arr in psd_epoch])\n",
    "print(psd_train.shape)"
   ]
  },
  {
   "cell_type": "markdown",
   "metadata": {},
   "source": [
    "## Load test set"
   ]
  },
  {
   "cell_type": "code",
   "execution_count": 63,
   "metadata": {},
   "outputs": [
    {
     "name": "stdout",
     "output_type": "stream",
     "text": [
      "    Using multitaper spectrum estimation with 7 DPSS windows\n"
     ]
    },
    {
     "name": "stderr",
     "output_type": "stream",
     "text": [
      "C:\\Users\\pipo_\\AppData\\Local\\Temp\\ipykernel_2524\\2255061457.py:6: FutureWarning: The current default of copy=False will change to copy=True in 1.7. Set the value of copy explicitly to avoid this warning\n",
      "  fft_out, freqs_out = compute_fft(test_epochs['12Hz','6Hz', '24Hz', '30Hz'].pick(ssvep_chans).get_data() * 10e6, 512)\n"
     ]
    }
   ],
   "source": [
    "with open('SSVEP_test_epochs.pkl', 'rb') as f:\n",
    "    test_epochs = pickle.load(f)\n",
    "\n",
    "test_epochs = test_epochs.copy().crop(tmin = 0.0, tmax = 4.0)\n",
    "\n",
    "fft_out, freqs_out = compute_fft(test_epochs['12Hz','6Hz', '24Hz', '30Hz'].pick(ssvep_chans).get_data() * 10e6, 512)\n",
    "fft_test = np.stack([arr.flatten() for arr in fft_out])\n",
    "\n",
    "psd_epoch = test_epochs['12Hz','6Hz', '24Hz', '30Hz'].pick(ssvep_chans).compute_psd(fmin=1.0, fmax=40.0)\n",
    "psd_test = np.stack([arr.flatten() for arr in psd_epoch])\n",
    "\n",
    "mapping = {2: 8, 4: 4, 8: 10, 10: 2}\n",
    "test_label = np.vectorize(mapping.get)(test_epochs['12Hz','6Hz', '24Hz', '30Hz'].events[:,-1])\n"
   ]
  },
  {
   "cell_type": "markdown",
   "metadata": {},
   "source": [
    "## Step4: Classification"
   ]
  },
  {
   "cell_type": "markdown",
   "metadata": {},
   "source": [
    "## 4.0 Select Feature as train and test set"
   ]
  },
  {
   "cell_type": "code",
   "execution_count": 64,
   "metadata": {},
   "outputs": [],
   "source": [
    "if select_feature == \"fft\":\n",
    "    x_train = fft_train\n",
    "    x_test = fft_test\n",
    "\n",
    "elif select_feature == 'psd':\n",
    "    x_train = psd_train\n",
    "    x_test = psd_test "
   ]
  },
  {
   "cell_type": "markdown",
   "metadata": {},
   "source": [
    "## 4.1 LDA"
   ]
  },
  {
   "cell_type": "code",
   "execution_count": 65,
   "metadata": {},
   "outputs": [],
   "source": [
    "def GetConfusionMatrix(models, X_train, X_test, y_train, y_test, target_names):\n",
    "    y_pred = models.predict(X_train)\n",
    "    print(\"Classification TRAIN DATA \\n=======================\")\n",
    "    print(classification_report(y_true= y_train, y_pred=y_pred, target_names= target_names))\n",
    "    print(\"Confusion matrix \\n=======================\")\n",
    "    print(confusion_matrix(y_true= y_train, y_pred=y_pred))\n",
    "\n",
    "    y_pred = models.predict(X_test)\n",
    "    print(\"Classification TEST DATA \\n=======================\")\n",
    "    print(classification_report(y_true=y_test, y_pred=y_pred, target_names= target_names))\n",
    "    print(\"Confusion matrix \\n=======================\")\n",
    "    print(confusion_matrix(y_true=y_test, y_pred=y_pred))\n",
    "\n",
    "    "
   ]
  },
  {
   "cell_type": "code",
   "execution_count": 66,
   "metadata": {},
   "outputs": [
    {
     "name": "stdout",
     "output_type": "stream",
     "text": [
      "accuracy 0.6\n",
      "Classification TRAIN DATA \n",
      "=======================\n",
      "              precision    recall  f1-score   support\n",
      "\n",
      "        12Hz       0.57      0.80      0.67         5\n",
      "         6Hz       0.67      0.40      0.50         5\n",
      "        24Hz       0.60      0.60      0.60         5\n",
      "        30Hz       0.60      0.60      0.60         5\n",
      "\n",
      "    accuracy                           0.60        20\n",
      "   macro avg       0.61      0.60      0.59        20\n",
      "weighted avg       0.61      0.60      0.59        20\n",
      "\n",
      "Confusion matrix \n",
      "=======================\n",
      "[[4 1 0 0]\n",
      " [1 2 1 1]\n",
      " [1 0 3 1]\n",
      " [1 0 1 3]]\n",
      "Classification TEST DATA \n",
      "=======================\n",
      "              precision    recall  f1-score   support\n",
      "\n",
      "        12Hz       0.36      0.67      0.47         6\n",
      "         6Hz       0.38      0.60      0.46         5\n",
      "        24Hz       0.00      0.00      0.00         5\n",
      "        30Hz       0.33      0.17      0.22         6\n",
      "\n",
      "    accuracy                           0.36        22\n",
      "   macro avg       0.27      0.36      0.29        22\n",
      "weighted avg       0.28      0.36      0.29        22\n",
      "\n",
      "Confusion matrix \n",
      "=======================\n",
      "[[4 2 0 0]\n",
      " [2 3 0 0]\n",
      " [1 2 0 2]\n",
      " [4 1 0 1]]\n"
     ]
    },
    {
     "name": "stderr",
     "output_type": "stream",
     "text": [
      "c:\\Python311\\Lib\\site-packages\\sklearn\\metrics\\_classification.py:1344: UndefinedMetricWarning: Precision and F-score are ill-defined and being set to 0.0 in labels with no predicted samples. Use `zero_division` parameter to control this behavior.\n",
      "  _warn_prf(average, modifier, msg_start, len(result))\n",
      "c:\\Python311\\Lib\\site-packages\\sklearn\\metrics\\_classification.py:1344: UndefinedMetricWarning: Precision and F-score are ill-defined and being set to 0.0 in labels with no predicted samples. Use `zero_division` parameter to control this behavior.\n",
      "  _warn_prf(average, modifier, msg_start, len(result))\n",
      "c:\\Python311\\Lib\\site-packages\\sklearn\\metrics\\_classification.py:1344: UndefinedMetricWarning: Precision and F-score are ill-defined and being set to 0.0 in labels with no predicted samples. Use `zero_division` parameter to control this behavior.\n",
      "  _warn_prf(average, modifier, msg_start, len(result))\n"
     ]
    }
   ],
   "source": [
    "y_train = train_label # Get true label\n",
    "y_test = test_label\n",
    "\n",
    "lda = LinearDiscriminantAnalysis(solver= \"svd\")\n",
    "lda.fit(x_train, y_train)\n",
    "\n",
    "print('accuracy', lda.score(x_train, y_train))\n",
    "label_names = ['12Hz', '6Hz', '24Hz', '30Hz']\n",
    "\n",
    "with open(\"LDA_model.pkl\", \"wb\") as file:\n",
    "    pickle.dump(lda, file)\n",
    "\n",
    "GetConfusionMatrix(lda, x_train, x_test, y_train, y_test, label_names)"
   ]
  },
  {
   "cell_type": "markdown",
   "metadata": {},
   "source": [
    "## 4.2 SVM"
   ]
  },
  {
   "cell_type": "code",
   "execution_count": 69,
   "metadata": {},
   "outputs": [
    {
     "name": "stdout",
     "output_type": "stream",
     "text": [
      "(20, 12288)\n",
      "accuracy 1.0\n",
      "Classification TRAIN DATA \n",
      "=======================\n",
      "              precision    recall  f1-score   support\n",
      "\n",
      "        12Hz       1.00      1.00      1.00         5\n",
      "         6Hz       1.00      1.00      1.00         5\n",
      "        24Hz       1.00      1.00      1.00         5\n",
      "        30Hz       1.00      1.00      1.00         5\n",
      "\n",
      "    accuracy                           1.00        20\n",
      "   macro avg       1.00      1.00      1.00        20\n",
      "weighted avg       1.00      1.00      1.00        20\n",
      "\n",
      "Confusion matrix \n",
      "=======================\n",
      "[[5 0 0 0]\n",
      " [0 5 0 0]\n",
      " [0 0 5 0]\n",
      " [0 0 0 5]]\n",
      "Classification TEST DATA \n",
      "=======================\n",
      "              precision    recall  f1-score   support\n",
      "\n",
      "        12Hz       0.75      0.50      0.60         6\n",
      "         6Hz       0.50      0.20      0.29         5\n",
      "        24Hz       1.00      1.00      1.00         5\n",
      "        30Hz       0.45      0.83      0.59         6\n",
      "\n",
      "    accuracy                           0.64        22\n",
      "   macro avg       0.68      0.63      0.62        22\n",
      "weighted avg       0.67      0.64      0.62        22\n",
      "\n",
      "Confusion matrix \n",
      "=======================\n",
      "[[3 0 0 3]\n",
      " [1 1 0 3]\n",
      " [0 0 5 0]\n",
      " [0 1 0 5]]\n"
     ]
    }
   ],
   "source": [
    "y_train = train_label # Get true label\n",
    "y_test = test_label\n",
    "\n",
    "svm_model = SVC(C = 1, kernel= 'rbf')  # Using a linear kernel\n",
    "svm_model.fit(x_train, y_train)\n",
    "\n",
    "print(x_train.shape)\n",
    "\n",
    "print('accuracy', svm_model.score(x_train, y_train))\n",
    "label_names = ['12Hz', '6Hz', '24Hz', '30Hz']\n",
    "\n",
    "with open(\"SVM_model.pkl\", \"wb\") as file:\n",
    "    pickle.dump(svm_model, file)\n",
    "\n",
    "GetConfusionMatrix(svm_model, x_train, x_test, y_train, y_test, label_names)"
   ]
  },
  {
   "cell_type": "markdown",
   "metadata": {},
   "source": [
    "## 4.3 KNN"
   ]
  },
  {
   "cell_type": "code",
   "execution_count": 71,
   "metadata": {},
   "outputs": [
    {
     "name": "stdout",
     "output_type": "stream",
     "text": [
      "accuracy 1.0\n",
      "Classification TRAIN DATA \n",
      "=======================\n",
      "              precision    recall  f1-score   support\n",
      "\n",
      "        12Hz       1.00      1.00      1.00         5\n",
      "         6Hz       1.00      1.00      1.00         5\n",
      "        24Hz       1.00      1.00      1.00         5\n",
      "        30Hz       1.00      1.00      1.00         5\n",
      "\n",
      "    accuracy                           1.00        20\n",
      "   macro avg       1.00      1.00      1.00        20\n",
      "weighted avg       1.00      1.00      1.00        20\n",
      "\n",
      "Confusion matrix \n",
      "=======================\n",
      "[[5 0 0 0]\n",
      " [0 5 0 0]\n",
      " [0 0 5 0]\n",
      " [0 0 0 5]]\n",
      "Classification TEST DATA \n",
      "=======================\n",
      "              precision    recall  f1-score   support\n",
      "\n",
      "        12Hz       1.00      0.17      0.29         6\n",
      "         6Hz       0.40      0.80      0.53         5\n",
      "        24Hz       1.00      0.40      0.57         5\n",
      "        30Hz       0.33      0.50      0.40         6\n",
      "\n",
      "    accuracy                           0.45        22\n",
      "   macro avg       0.68      0.47      0.45        22\n",
      "weighted avg       0.68      0.45      0.44        22\n",
      "\n",
      "Confusion matrix \n",
      "=======================\n",
      "[[1 3 0 2]\n",
      " [0 4 0 1]\n",
      " [0 0 2 3]\n",
      " [0 3 0 3]]\n"
     ]
    }
   ],
   "source": [
    "y_train = train_label # Get true label\n",
    "y_test = test_label\n",
    "\n",
    "knn = KNeighborsClassifier(n_neighbors= 5, weights = \"distance\")\n",
    "knn.fit(x_train, y_train)\n",
    "\n",
    "print('accuracy', knn.score(x_train, y_train))\n",
    "label_names = ['12Hz', '6Hz', '24Hz', '30Hz']\n",
    "\n",
    "with open(\"KNN_model.pkl\", \"wb\") as file:\n",
    "    pickle.dump(knn, file)\n",
    "\n",
    "GetConfusionMatrix(knn, x_train, x_test, y_train, y_test, label_names)"
   ]
  }
 ],
 "metadata": {
  "kernelspec": {
   "display_name": "Python 3",
   "language": "python",
   "name": "python3"
  },
  "language_info": {
   "codemirror_mode": {
    "name": "ipython",
    "version": 3
   },
   "file_extension": ".py",
   "mimetype": "text/x-python",
   "name": "python",
   "nbconvert_exporter": "python",
   "pygments_lexer": "ipython3",
   "version": "3.11.0"
  }
 },
 "nbformat": 4,
 "nbformat_minor": 2
}
