{
 "cells": [
  {
   "cell_type": "markdown",
   "metadata": {},
   "source": [
    "# Get Real-time EEG streaming Data"
   ]
  },
  {
   "cell_type": "code",
   "execution_count": 5,
   "metadata": {},
   "outputs": [
    {
     "name": "stdout",
     "output_type": "stream",
     "text": [
      "Looking for an EEG stream...\n",
      "TriggerStream\n",
      "MNE\n"
     ]
    }
   ],
   "source": [
    "import threading\n",
    "import time\n",
    "from pylsl import StreamInlet, resolve_stream\n",
    "import numpy as np\n",
    "\n",
    "# Function for data acquisition from LSL\n",
    "def data_acquisition():\n",
    "    global epoch, data, time_count, time_all\n",
    "    \n",
    "    while True:\n",
    "        # EEG Data Acquisition\n",
    "        sample, timestamp = inlet_EEG.pull_sample()\n",
    "        if sample:\n",
    "            data1 = sample[0:72]\n",
    "            data.append(data1)  \n",
    "\n",
    "            time_count += 1/f_rate\n",
    "            time_all += 1/f_rate\n",
    "\n",
    "            data = np.asarray(data)\n",
    "            epoch = np.delete(epoch, slice(0, 1), axis=1)\n",
    "            epoch = np.append(epoch, data.T, axis=1)\n",
    "\n",
    "            data = np.ndarray.tolist(data)\n",
    "            data = []\n",
    "\n",
    "        # Event Data Acquisition\n",
    "        event, _ = inlet_Event.pull_sample(timeout=0.0)\n",
    "        if event:\n",
    "            print(\"Event###################\", event)\n",
    "\n",
    "# Function for data preprocessing\n",
    "def data_preprocessing():\n",
    "    global epoch, time_count\n",
    "    \n",
    "    while True:\n",
    "        # Process the data at fixed intervals\n",
    "        if time_count >= time_interval:\n",
    "            time_count = 0.0\n",
    "            print(epoch.shape)\n",
    "            \n",
    "        time.sleep(time_interval)  # Wait for the next time interval\n",
    "\n",
    "# Stream Setup\n",
    "print(\"Looking for an EEG stream...\")\n",
    "All_streams = resolve_stream()\n",
    "\n",
    "for i in All_streams:\n",
    "    print(i.name())\n",
    "\n",
    "Target_LSL = 'MNE'  # Name of Openvibe LSL Streaming\n",
    "Target_event = 'TriggerStream'\n",
    "\n",
    "# Resolving streams\n",
    "EEG_stream = [stream for stream in All_streams if stream.name() == Target_LSL]\n",
    "Event_stream = [stream for stream in All_streams if stream.name() == Target_event]\n",
    "\n",
    "# Creating inlets\n",
    "inlet_EEG = StreamInlet(EEG_stream[0])\n",
    "inlet_Event = StreamInlet(Event_stream[0])\n",
    "\n",
    "# Parameters\n",
    "f_rate = 512\n",
    "epoch_time = 1\n",
    "num_of_channel = 72\n",
    "time_interval = 0.5  # Window shift\n",
    "\n",
    "# Initialize epoch\n",
    "epoch = np.zeros(shape=(num_of_channel, epoch_time * f_rate))\n",
    "\n",
    "data = []\n",
    "time_count = 0.0\n",
    "time_all = 0.0\n",
    "\n",
    "# Thread 1: Data Acquisition\n",
    "data_acq_thread = threading.Thread(target=data_acquisition)\n",
    "\n",
    "# Thread 2: Data Preprocessing\n",
    "data_proc_thread = threading.Thread(target=data_preprocessing)\n",
    "\n",
    "# Start threads\n",
    "data_acq_thread.start()\n",
    "data_proc_thread.start()\n",
    "\n",
    "# Join threads to ensure they run continuously\n",
    "data_acq_thread.join()\n",
    "data_proc_thread.join()\n"
   ]
  }
 ],
 "metadata": {
  "kernelspec": {
   "display_name": "Python 3",
   "language": "python",
   "name": "python3"
  },
  "language_info": {
   "codemirror_mode": {
    "name": "ipython",
    "version": 3
   },
   "file_extension": ".py",
   "mimetype": "text/x-python",
   "name": "python",
   "nbconvert_exporter": "python",
   "pygments_lexer": "ipython3",
   "version": "3.11.0"
  }
 },
 "nbformat": 4,
 "nbformat_minor": 2
}
